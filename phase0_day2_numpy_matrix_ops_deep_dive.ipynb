{
 "cells": [
  {
   "cell_type": "code",
   "execution_count": 1,
   "metadata": {},
   "outputs": [],
   "source": [
    "import pandas as pd\n",
    "import numpy as np\n",
    "pd.set_option('display.max_columns', None) # Show all columns\n",
    "import torch"
   ]
  },
  {
   "cell_type": "markdown",
   "metadata": {},
   "source": [
    "#### Coding Challenge 1 (Dot Products & Matrix-Vector)"
   ]
  },
  {
   "cell_type": "code",
   "execution_count": 2,
   "metadata": {},
   "outputs": [
    {
     "name": "stdout",
     "output_type": "stream",
     "text": [
      "32\n",
      "32\n"
     ]
    }
   ],
   "source": [
    "### 1D array vector\n",
    "\n",
    "a = np.array([1,2,3])\n",
    "b = np.array([4,5,6])\n",
    "\n",
    "print(a@b)\n",
    "print(np.dot(a,b))\n"
   ]
  },
  {
   "cell_type": "code",
   "execution_count": 3,
   "metadata": {},
   "outputs": [
    {
     "name": "stdout",
     "output_type": "stream",
     "text": [
      "[ 20  65 110]\n",
      "[ 20  65 110]\n"
     ]
    }
   ],
   "source": [
    "### 2D array matrix\n",
    "\n",
    "M = np.array([[1,2], [4,5], [7,8]])\n",
    "v = np.array([10,5])\n",
    "\n",
    "print(M@v)\n",
    "\n",
    "print(np.dot(M,v))"
   ]
  },
  {
   "cell_type": "markdown",
   "metadata": {},
   "source": [
    "#### Coding Challenge 2 (Matrix-Matrix)"
   ]
  },
  {
   "cell_type": "code",
   "execution_count": 4,
   "metadata": {},
   "outputs": [
    {
     "name": "stdout",
     "output_type": "stream",
     "text": [
      "[[ 58  64  55  49]\n",
      " [139 154 127 106]]\n",
      "[[ 58  64  55  49]\n",
      " [139 154 127 106]]\n"
     ]
    }
   ],
   "source": [
    "A = np.array([[1,2,3], [4,5,6]])\n",
    "B = np.array([[7,8, 6, 3], [9,10,5,2], [11,12,13,14]])\n",
    "\n",
    "print(A@B)\n",
    "print(np.dot(A,B))"
   ]
  },
  {
   "cell_type": "code",
   "execution_count": 5,
   "metadata": {},
   "outputs": [
    {
     "name": "stdout",
     "output_type": "stream",
     "text": [
      "[[1 2 3]\n",
      " [4 5 6]]\n",
      "[[ 7  8  6  3]\n",
      " [ 9 10  5  2]\n",
      " [11 12 13 14]]\n"
     ]
    }
   ],
   "source": [
    "print(A)\n",
    "print(B)\n"
   ]
  },
  {
   "cell_type": "code",
   "execution_count": 7,
   "metadata": {},
   "outputs": [
    {
     "data": {
      "text/plain": [
       "58"
      ]
     },
     "execution_count": 7,
     "metadata": {},
     "output_type": "execute_result"
    }
   ],
   "source": [
    "C = A@B\n",
    "C[0,0]"
   ]
  },
  {
   "cell_type": "code",
   "execution_count": 8,
   "metadata": {},
   "outputs": [
    {
     "data": {
      "text/plain": [
       "127"
      ]
     },
     "execution_count": 8,
     "metadata": {},
     "output_type": "execute_result"
    }
   ],
   "source": [
    "C[1,2]"
   ]
  },
  {
   "cell_type": "code",
   "execution_count": 9,
   "metadata": {},
   "outputs": [
    {
     "data": {
      "text/plain": [
       "64"
      ]
     },
     "execution_count": 9,
     "metadata": {},
     "output_type": "execute_result"
    }
   ],
   "source": [
    "C[0,1]"
   ]
  },
  {
   "cell_type": "markdown",
   "metadata": {},
   "source": [
    "#### Coding Challenge 3 (Linear Transformation Simulation - Conceptual)"
   ]
  },
  {
   "cell_type": "code",
   "execution_count": 2,
   "metadata": {},
   "outputs": [
    {
     "name": "stdout",
     "output_type": "stream",
     "text": [
      "\n",
      "Transformation Matrix T:\n",
      "[[2.  0. ]\n",
      " [0.  0.5]]\n",
      "\n",
      "Original Vector v: [1 1]\n",
      "Transformed Vector v': [2.  0.5]\n"
     ]
    }
   ],
   "source": [
    "# --- Challenge 3: Linear Transformation Simulation (Conceptual) ---\n",
    "# Objective: Understand how a matrix multiplication transforms a vector.\n",
    "\n",
    "# 1. Define a simple 2x2 transformation matrix 'T'.\n",
    "# Let's pick one that's easy to visualize, e.g., a scaling matrix.\n",
    "# This matrix scales the x-component by 2 and the y-component by 0.5.\n",
    "T = np.array([[2, 0],\n",
    "              [0, 0.5]])\n",
    "\n",
    "print(f\"\\nTransformation Matrix T:\\n{T}\")\n",
    "\n",
    "# 2. Define a simple 2D vector 'v'.\n",
    "v = np.array([1, 1])\n",
    "print(f\"\\nOriginal Vector v: {v}\")\n",
    "\n",
    "# 3. Calculate the transformed vector 'v_transformed'.\n",
    "v_transformed = T @ v\n",
    "print(f\"Transformed Vector v': {v_transformed}\")\n",
    "\n"
   ]
  },
  {
   "cell_type": "markdown",
   "metadata": {},
   "source": [
    "--- Self-Reflection and Conceptual Explanation (Add these comments to your notebook) ---\n",
    "\n",
    "Question 1: How did 'v' change after being multiplied by 'T'?\n",
    "\n",
    "Answer:\n",
    "\n",
    "The original vector v=[1, 1] was transformed to v'=[2, 0.5].\n",
    "This means its x-component was scaled by a factor of 2, and its y-component was scaled by a factor of 0.5.\n",
    "This aligns with the scaling factors on the diagonal of matrix T.\n",
    "\n",
    "Question 2: If 'v' represented a point (1,1) in a 2D plane, what would 'T' do to a set of points forming a unit square (0,0), (1,0), (0,1), (1,1)?\n",
    "\n",
    "Conceptual Answer (no code needed for this):\n",
    "- The point (0,0) would remain (0,0) (as T @ [0,0] = [0,0]).\n",
    "- The point (1,0) would become (2,0) (scaled along x-axis).\n",
    "- The point (0,1) would become (0,0.5) (scaled along y-axis).\n",
    "- The point (1,1) (our 'v') would become (2,0.5).\n",
    "So, the unit square would be \"stretched\" along the x-axis and \"compressed\" along the y-axis,\n",
    "forming a rectangle with corners at (0,0), (2,0), (0,0.5), (2,0.5).\n",
    "This demonstrates how matrices perform linear transformations (scaling, rotation, shearing, etc.) on space.\n",
    "\n",
    "Question 3: How is this relevant to neural networks?\n",
    "\n",
    "Answer:\n",
    "\n",
    "In a neural network's dense (fully connected) layer, the input vector (X) is multiplied by a weight matrix (W).\n",
    "This multiplication (X @ W, or W @ X depending on conventions) is essentially a linear transformation of the input data.\n",
    "Each neuron in the next layer is taking a transformed combination of the inputs from the previous layer.\n",
    "This transformation is the \"linear part\" of learning, before non-linear activation functions are applied."
   ]
  },
  {
   "cell_type": "code",
   "execution_count": null,
   "metadata": {},
   "outputs": [],
   "source": []
  }
 ],
 "metadata": {
  "kernelspec": {
   "display_name": "base",
   "language": "python",
   "name": "python3"
  },
  "language_info": {
   "codemirror_mode": {
    "name": "ipython",
    "version": 3
   },
   "file_extension": ".py",
   "mimetype": "text/x-python",
   "name": "python",
   "nbconvert_exporter": "python",
   "pygments_lexer": "ipython3",
   "version": "3.12.3"
  }
 },
 "nbformat": 4,
 "nbformat_minor": 2
}

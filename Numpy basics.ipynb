{
 "cells": [
  {
   "cell_type": "code",
   "execution_count": 1,
   "metadata": {},
   "outputs": [],
   "source": [
    "import pandas as pd\n",
    "import numpy as np\n",
    "pd.set_option('display.max_columns', None) # Show all columns\n",
    "import torch"
   ]
  },
  {
   "cell_type": "markdown",
   "metadata": {},
   "source": [
    "#### Numpy Basics"
   ]
  },
  {
   "cell_type": "code",
   "execution_count": 12,
   "metadata": {},
   "outputs": [
    {
     "name": "stdout",
     "output_type": "stream",
     "text": [
      "[ 7  9 11 13 15]\n",
      "[-5 -5 -5 -5 -5]\n",
      "[ 3  6  9 12 15]\n"
     ]
    }
   ],
   "source": [
    "### 1D numpy Arrays\n",
    "\n",
    "a = np.array([1, 2, 3,4,5])\n",
    "b = np.array([6,7,8,9,10])\n",
    "\n",
    "print(a+b)\n",
    "print(a-b)\n",
    "print(3*a)\n"
   ]
  },
  {
   "cell_type": "code",
   "execution_count": 13,
   "metadata": {},
   "outputs": [
    {
     "name": "stdout",
     "output_type": "stream",
     "text": [
      "130\n"
     ]
    }
   ],
   "source": [
    "print(np.dot(a,b))"
   ]
  },
  {
   "cell_type": "code",
   "execution_count": 14,
   "metadata": {},
   "outputs": [
    {
     "name": "stdout",
     "output_type": "stream",
     "text": [
      "130\n"
     ]
    }
   ],
   "source": [
    "print(a@b)"
   ]
  },
  {
   "cell_type": "code",
   "execution_count": 15,
   "metadata": {},
   "outputs": [],
   "source": [
    "### 2D numpy Arrays\n",
    "\n",
    "A = np.array([[1, 2, 3], [4, 5, 6]])\n",
    "B = np.array([[7, 8, 9], [10, 11, 12]])"
   ]
  },
  {
   "cell_type": "code",
   "execution_count": 16,
   "metadata": {},
   "outputs": [
    {
     "name": "stdout",
     "output_type": "stream",
     "text": [
      "[[ 8 10 12]\n",
      " [14 16 18]]\n",
      "[[-6 -6 -6]\n",
      " [-6 -6 -6]]\n",
      "[[ 2  4  6]\n",
      " [ 8 10 12]]\n"
     ]
    }
   ],
   "source": [
    "print(A + B) \n",
    "print(A - B)\n",
    "print(2 * A)"
   ]
  },
  {
   "cell_type": "code",
   "execution_count": 17,
   "metadata": {},
   "outputs": [
    {
     "data": {
      "text/plain": [
       "array([[1, 4],\n",
       "       [2, 5],\n",
       "       [3, 6]])"
      ]
     },
     "execution_count": 17,
     "metadata": {},
     "output_type": "execute_result"
    }
   ],
   "source": [
    "A.T"
   ]
  },
  {
   "cell_type": "code",
   "execution_count": 20,
   "metadata": {},
   "outputs": [
    {
     "name": "stdout",
     "output_type": "stream",
     "text": [
      "[[111  81  78 193]\n",
      " [150 111 108 265]]\n",
      "[[111  81  78 193]\n",
      " [150 111 108 265]]\n"
     ]
    }
   ],
   "source": [
    "B = np.array([[7, 8, 9], [10, 11, 12]])\n",
    "X = np.array([[1, 2, 3, 8], [4, 5, 6, 7], [8, 3, 1, 9]])\n",
    "\n",
    "print(B@X)\n",
    "print(np.dot(B,X))"
   ]
  },
  {
   "cell_type": "markdown",
   "metadata": {},
   "source": [
    "\n",
    "\n",
    "@ Operator: This is the modern, recommended way to do matrix multiplication in Python.\n",
    "\n",
    "np.dot() Function: This is a more general-purpose function.\n",
    "\n",
    "When given two 2D arrays, it performs matrix multiplication.\n",
    "\n",
    "When given two 1D arrays (vectors), it computes their dot product.\n",
    "\n",
    "Its behavior changes based on the dimensions of the input arrays.\n",
    "\n",
    "For 2D arrays, @ and np.dot() are functionally identical. The @ operator is often preferred because its meaning is unambiguous and it can make code more readable."
   ]
  },
  {
   "cell_type": "code",
   "execution_count": 18,
   "metadata": {},
   "outputs": [
    {
     "name": "stdout",
     "output_type": "stream",
     "text": [
      "[[ 3  4  5 10]\n",
      " [ 7  8  9 10]\n",
      " [12  7  5 13]]\n"
     ]
    }
   ],
   "source": [
    "###  Numpy Broadcasting\n",
    "\n",
    "X = np.array([[1, 2, 3, 8], [4, 5, 6, 7], [8, 3, 1, 9]])\n",
    "Y = np.array([[2], [3], [4]])\n",
    "\n",
    "print(X + Y)"
   ]
  },
  {
   "cell_type": "markdown",
   "metadata": {},
   "source": [
    "Numpy Broadcasting explained\n",
    "\n",
    "The smaller array Y was stretched to match the shape of the larger array X and then the 2 arrays were added element wise.\n",
    "NumPy automatically expanded Y to a shape of 3 rows and 4 columns by duplicating its single column three more times.\n",
    "\n",
    "Internal working of Numpy Broadcasting\n",
    "[[1, 2, 3, 8],      [[2, 2, 2, 2],      [[1+2, 2+2, 3+2, 8+2],      [[ 3,  4,  5, 10],\n",
    " [4, 5, 6, 7],   +   [3, 3, 3, 3],   =   [4+3, 5+3, 6+3, 7+3],   =   [ 7,  8,  9, 10],\n",
    " [8, 3, 1, 9]]       [4, 4, 4, 4]]       [8+4, 3+4, 1+4, 9+4]]       [12,  7,  5, 13]]\n",
    "\n",
    "This automatic expansion is a core feature of NumPy called broadcasting. It allows for efficient computations between arrays of different, but compatible, shapes without needing to create extra copies of the data in memory."
   ]
  },
  {
   "cell_type": "code",
   "execution_count": 19,
   "metadata": {},
   "outputs": [
    {
     "name": "stdout",
     "output_type": "stream",
     "text": [
      "[[11 22 33 48]\n",
      " [14 25 36 47]\n",
      " [18 23 31 49]]\n"
     ]
    }
   ],
   "source": [
    "# Our 1D array of length 4 (acts like a 1x4 row vector)\n",
    "row_vector = np.array([10, 20, 30, 40])\n",
    "\n",
    "print(X + row_vector)"
   ]
  },
  {
   "cell_type": "markdown",
   "metadata": {},
   "source": [
    "When we add a 1D array (which NumPy treats as a row vector in this context) to a 2D array (a matrix), broadcasting rules are applicable to make the shapes compatible for element-wise addition.\n",
    "\n",
    "Shape Comparison:\n",
    "\n",
    "X has a shape of (3, 4).\n",
    "\n",
    "row_vector has a shape of (4,).\n",
    "\n",
    "Applying the Broadcasting Rules:\n",
    "\n",
    "Rule 1: To compare the shapes, NumPy first aligns their dimensions from the right. To make them have the same number of dimensions, it pads the shape of the smaller array (row_vector) with a 1 on the left. So, (4,) is treated as (1, 4).\n",
    "\n",
    "Rule 2: Now NumPy compares the shapes (3, 4) and (1, 4) dimension by dimension.\n",
    "\n",
    "Columns (trailing dimension): Both have a size of 4. This is a match.\n",
    "\n",
    "Rows (first dimension): X has 3 rows, while the row_vector has 1. Since one of the dimensions is 1, NumPy \"stretches\" or duplicates the row_vector along this axis to match the other array's size."
   ]
  },
  {
   "cell_type": "code",
   "execution_count": 21,
   "metadata": {},
   "outputs": [
    {
     "name": "stdout",
     "output_type": "stream",
     "text": [
      "Shape of original image_data: (100, 100, 3)\n",
      "Shape of color_scale: (3,)\n",
      "Shape of scaled_image_data: (100, 100, 3)\n",
      "\n",
      "Original first pixel (R,G,B): [ 83 229  41]\n",
      "Scaled first pixel (R,G,B): [ 41.5 274.8  32.8]\n"
     ]
    }
   ],
   "source": [
    "# Create a 100x100x3 array representing an RGB image.\n",
    "# Fill it with random integers from 0 to 255 to simulate pixel data.\n",
    "image_data = np.random.randint(0, 256, size=(100, 100, 3), dtype=np.uint8)\n",
    "\n",
    "# Create a 1D array to scale the color channels (Red, Green, Blue).\n",
    "# For example, we'll reduce red, increase green, and slightly reduce blue.\n",
    "color_scale = np.array([0.5, 1.2, 0.8])\n",
    "\n",
    "# Multiply the image by the color scale using broadcasting.\n",
    "# Note: The result will be float numbers.\n",
    "scaled_image_data = image_data * color_scale\n",
    "\n",
    "print(\"Shape of original image_data:\", image_data.shape)\n",
    "print(\"Shape of color_scale:\", color_scale.shape)\n",
    "print(\"Shape of scaled_image_data:\", scaled_image_data.shape)\n",
    "\n",
    "# Let's check the values for the first pixel before and after scaling\n",
    "print(\"\\nOriginal first pixel (R,G,B):\", image_data[0, 0, :])\n",
    "print(\"Scaled first pixel (R,G,B):\", scaled_image_data[0, 0, :])\n"
   ]
  },
  {
   "cell_type": "code",
   "execution_count": null,
   "metadata": {},
   "outputs": [],
   "source": []
  }
 ],
 "metadata": {
  "kernelspec": {
   "display_name": "base",
   "language": "python",
   "name": "python3"
  },
  "language_info": {
   "codemirror_mode": {
    "name": "ipython",
    "version": 3
   },
   "file_extension": ".py",
   "mimetype": "text/x-python",
   "name": "python",
   "nbconvert_exporter": "python",
   "pygments_lexer": "ipython3",
   "version": "3.12.3"
  }
 },
 "nbformat": 4,
 "nbformat_minor": 2
}

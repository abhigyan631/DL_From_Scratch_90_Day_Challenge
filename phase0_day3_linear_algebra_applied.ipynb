{
 "cells": [
  {
   "cell_type": "code",
   "execution_count": 1,
   "metadata": {},
   "outputs": [],
   "source": [
    "import pandas as pd\n",
    "import numpy as np\n",
    "pd.set_option('display.max_columns', None) # Show all columns"
   ]
  },
  {
   "cell_type": "markdown",
   "metadata": {},
   "source": [
    "#### Challenge 1 (Inverse & Determinant)"
   ]
  },
  {
   "cell_type": "code",
   "execution_count": 2,
   "metadata": {},
   "outputs": [
    {
     "name": "stdout",
     "output_type": "stream",
     "text": [
      "[[ 0.66666667 -0.33333333]\n",
      " [-0.33333333  0.66666667]]\n",
      "[[1. 0.]\n",
      " [0. 1.]]\n"
     ]
    }
   ],
   "source": [
    "A = np.array([[2,1], [1,2]])\n",
    "print(np.linalg.inv(A))\n",
    "print(A@np.linalg.inv(A))"
   ]
  },
  {
   "cell_type": "code",
   "execution_count": 3,
   "metadata": {},
   "outputs": [
    {
     "name": "stdout",
     "output_type": "stream",
     "text": [
      "2.9999999999999996\n"
     ]
    }
   ],
   "source": [
    "print(np.linalg.det(A))"
   ]
  },
  {
   "cell_type": "code",
   "execution_count": 4,
   "metadata": {},
   "outputs": [
    {
     "ename": "LinAlgError",
     "evalue": "Singular matrix",
     "output_type": "error",
     "traceback": [
      "\u001b[31m---------------------------------------------------------------------------\u001b[39m",
      "\u001b[31mLinAlgError\u001b[39m                               Traceback (most recent call last)",
      "\u001b[36mCell\u001b[39m\u001b[36m \u001b[39m\u001b[32mIn[4]\u001b[39m\u001b[32m, line 3\u001b[39m\n\u001b[32m      1\u001b[39m B = np.array([[\u001b[32m1\u001b[39m,\u001b[32m2\u001b[39m], [\u001b[32m2\u001b[39m,\u001b[32m4\u001b[39m]])\n\u001b[32m----> \u001b[39m\u001b[32m3\u001b[39m \u001b[38;5;28mprint\u001b[39m(\u001b[43mnp\u001b[49m\u001b[43m.\u001b[49m\u001b[43mlinalg\u001b[49m\u001b[43m.\u001b[49m\u001b[43minv\u001b[49m\u001b[43m(\u001b[49m\u001b[43mB\u001b[49m\u001b[43m)\u001b[49m)\n",
      "\u001b[36mFile \u001b[39m\u001b[32mc:\\Users\\1508\\AppData\\Local\\anaconda31\\Lib\\site-packages\\numpy\\linalg\\linalg.py:561\u001b[39m, in \u001b[36minv\u001b[39m\u001b[34m(a)\u001b[39m\n\u001b[32m    559\u001b[39m signature = \u001b[33m'\u001b[39m\u001b[33mD->D\u001b[39m\u001b[33m'\u001b[39m \u001b[38;5;28;01mif\u001b[39;00m isComplexType(t) \u001b[38;5;28;01melse\u001b[39;00m \u001b[33m'\u001b[39m\u001b[33md->d\u001b[39m\u001b[33m'\u001b[39m\n\u001b[32m    560\u001b[39m extobj = get_linalg_error_extobj(_raise_linalgerror_singular)\n\u001b[32m--> \u001b[39m\u001b[32m561\u001b[39m ainv = \u001b[43m_umath_linalg\u001b[49m\u001b[43m.\u001b[49m\u001b[43minv\u001b[49m\u001b[43m(\u001b[49m\u001b[43ma\u001b[49m\u001b[43m,\u001b[49m\u001b[43m \u001b[49m\u001b[43msignature\u001b[49m\u001b[43m=\u001b[49m\u001b[43msignature\u001b[49m\u001b[43m,\u001b[49m\u001b[43m \u001b[49m\u001b[43mextobj\u001b[49m\u001b[43m=\u001b[49m\u001b[43mextobj\u001b[49m\u001b[43m)\u001b[49m\n\u001b[32m    562\u001b[39m \u001b[38;5;28;01mreturn\u001b[39;00m wrap(ainv.astype(result_t, copy=\u001b[38;5;28;01mFalse\u001b[39;00m))\n",
      "\u001b[36mFile \u001b[39m\u001b[32mc:\\Users\\1508\\AppData\\Local\\anaconda31\\Lib\\site-packages\\numpy\\linalg\\linalg.py:112\u001b[39m, in \u001b[36m_raise_linalgerror_singular\u001b[39m\u001b[34m(err, flag)\u001b[39m\n\u001b[32m    111\u001b[39m \u001b[38;5;28;01mdef\u001b[39;00m\u001b[38;5;250m \u001b[39m\u001b[34m_raise_linalgerror_singular\u001b[39m(err, flag):\n\u001b[32m--> \u001b[39m\u001b[32m112\u001b[39m     \u001b[38;5;28;01mraise\u001b[39;00m LinAlgError(\u001b[33m\"\u001b[39m\u001b[33mSingular matrix\u001b[39m\u001b[33m\"\u001b[39m)\n",
      "\u001b[31mLinAlgError\u001b[39m: Singular matrix"
     ]
    }
   ],
   "source": [
    "B = np.array([[1,2], [2,4]])\n",
    "\n",
    "print(np.linalg.inv(B))"
   ]
  },
  {
   "cell_type": "code",
   "execution_count": 5,
   "metadata": {},
   "outputs": [
    {
     "name": "stdout",
     "output_type": "stream",
     "text": [
      "0.0\n"
     ]
    }
   ],
   "source": [
    "print(np.linalg.det(B))"
   ]
  },
  {
   "cell_type": "markdown",
   "metadata": {},
   "source": [
    "A square matrix is invertible if and only if its determinant is non-zero\n",
    "\n",
    "If det(A)=0, then the denominator becomes zero, making the inverse undefined. A matrix that does not have an inverse is by definition a singular matrix."
   ]
  },
  {
   "cell_type": "markdown",
   "metadata": {},
   "source": [
    "#### Challenge 2 (Eigenvalues/Eigenvectors)"
   ]
  },
  {
   "cell_type": "code",
   "execution_count": 6,
   "metadata": {},
   "outputs": [
    {
     "name": "stdout",
     "output_type": "stream",
     "text": [
      "[4.61803399 2.38196601]\n",
      "[[ 0.85065081 -0.52573111]\n",
      " [ 0.52573111  0.85065081]]\n"
     ]
    }
   ],
   "source": [
    "S = np.array([[4,1], [1,3]])\n",
    "\n",
    "eigenvalues, eigenvectors = np.linalg.eig(S)\n",
    "\n",
    "print(eigenvalues)\n",
    "print(eigenvectors)"
   ]
  },
  {
   "cell_type": "code",
   "execution_count": 7,
   "metadata": {},
   "outputs": [
    {
     "name": "stdout",
     "output_type": "stream",
     "text": [
      "[[ 3.92833435 -1.25227364]\n",
      " [ 2.42784414  2.02622131]]\n"
     ]
    }
   ],
   "source": [
    "print(S@eigenvectors)"
   ]
  },
  {
   "cell_type": "code",
   "execution_count": 8,
   "metadata": {},
   "outputs": [
    {
     "name": "stdout",
     "output_type": "stream",
     "text": [
      "[[ 3.92833435 -1.25227364]\n",
      " [ 2.42784414  2.02622131]]\n"
     ]
    }
   ],
   "source": [
    "print(eigenvalues * eigenvectors)"
   ]
  },
  {
   "cell_type": "markdown",
   "metadata": {},
   "source": [
    "The core idea behind eigenvectors and eigenvalues is to find special vectors that, when a linear transformation (represented by the matrix) is applied to them, only get scaled, not rotated or flipped in direction\n",
    "\n",
    "\n",
    "Matrix (A): This represents a linear transformation. When you multiply a vector by A, you are transforming that vector in some way (e.g., rotating, scaling, shearing).\n",
    "\n",
    "Eigenvector (v): This is a non-zero vector that, after being transformed by matrix A, remains on the same line through the origin as the original vector v. It only changes its length (and possibly its direction by 180 degrees if the scaling factor is negative).\n",
    "\n",
    "Eigenvalue (λ): This is the scalar (a single number) by which the eigenvector v is scaled. It tells you how much the eigenvector stretches or shrinks (or flips if λ is negative) under the transformation.\n",
    "\n",
    "\n",
    "The equation that mathematically captures this relationship is:\n",
    "\n",
    "Av=λv\n",
    "\n",
    "Explanation of each side:\n",
    "\n",
    "Left-hand side (Av): This represents the result of applying the linear transformation defined by matrix A to the vector v. It's the standard matrix-vector multiplication.\n",
    "\n",
    "Right-hand side (λv): This represents the vector v being scaled by the scalar λ. It means every component of v is multiplied by λ.\n",
    "\n",
    "\n",
    "The equality Av=λv is not a derived property but rather the defining characteristic of an eigenvector and its corresponding eigenvalue. If a vector v and a scalar λ satisfy this equation, then v is by definition an eigenvector of A, and λ is its eigenvalue.\n",
    "\n",
    "When you multiply the matrix A by its eigenvector v (left side), you get a new vector.\n",
    "\n",
    "This new vector happens to be exactly the same as if you had just multiplied the original eigenvector v by a single number λ (right side).\n",
    "\n"
   ]
  },
  {
   "cell_type": "markdown",
   "metadata": {},
   "source": [
    "#### Mini-Project: Linear Regression with Normal Equation"
   ]
  },
  {
   "cell_type": "code",
   "execution_count": 14,
   "metadata": {},
   "outputs": [],
   "source": [
    "### Data Generation\n",
    "\n",
    "# Generate synthetic data\n",
    "np.random.seed(0)\n",
    "X = 2 * np.random.rand(100, 1) # 100 samples, 1 feature\n",
    "y = 4 + 3 * X + np.random.randn(100, 1) * 0.5 # y = 4 + 3x + noise\n",
    "# Add a bias term (column of ones) to X for the intercept\n",
    "X_b = np.c_[np.ones((100, 1)), X] # X_b now has shape (100, 2)"
   ]
  },
  {
   "cell_type": "code",
   "execution_count": 15,
   "metadata": {},
   "outputs": [
    {
     "name": "stdout",
     "output_type": "stream",
     "text": [
      "Optimal weights: [[4.11107554]\n",
      " [2.98423376]]\n"
     ]
    }
   ],
   "source": [
    "#### Implement Normal Equation\n",
    "\n",
    "# Calculate weights W using the Normal Equation\n",
    "# W = (X_b.T @ X_b)^-1 @ X_b.T @ y\n",
    "# Hint: Use np.linalg.inv and @ operator\n",
    "weights = np.linalg.inv(X_b.T @ X_b) @ X_b.T @ y # Your calculation here\n",
    "print(f\"Optimal weights: {weights}\")\n",
    "# Expected output for ideal case should be close to [[4.], [3.]]"
   ]
  },
  {
   "cell_type": "code",
   "execution_count": 16,
   "metadata": {},
   "outputs": [
    {
     "data": {
      "image/png": "[encoded data removed]",
      "text/plain": [
       "<Figure size 640x480 with 1 Axes>"
      ]
     },
     "metadata": {},
     "output_type": "display_data"
    }
   ],
   "source": [
    "#### Prediction\n",
    "\n",
    "# Predict y values using the calculated weights\n",
    "y_pred = X_b @ weights\n",
    "# Plot X vs y and X vs y_pred to visualize the fit (using matplotlib)\n",
    "import matplotlib.pyplot as plt\n",
    "plt.scatter(X, y, label='Original Data')\n",
    "plt.plot(X, y_pred, color='red', label='Linear Regression Fit')\n",
    "plt.xlabel('X')\n",
    "plt.ylabel('y')\n",
    "plt.legend()\n",
    "plt.title('Linear Regression with Normal Equation')\n",
    "plt.show()"
   ]
  },
  {
   "cell_type": "code",
   "execution_count": null,
   "metadata": {},
   "outputs": [],
   "source": []
  }
 ],
 "metadata": {
  "kernelspec": {
   "display_name": "base",
   "language": "python",
   "name": "python3"
  },
  "language_info": {
   "codemirror_mode": {
    "name": "ipython",
    "version": 3
   },
   "file_extension": ".py",
   "mimetype": "text/x-python",
   "name": "python",
   "nbconvert_exporter": "python",
   "pygments_lexer": "ipython3",
   "version": "3.12.3"
  }
 },
 "nbformat": 4,
 "nbformat_minor": 2
}
